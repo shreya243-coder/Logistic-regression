{
  "nbformat": 4,
  "nbformat_minor": 0,
  "metadata": {
    "colab": {
      "provenance": []
    },
    "kernelspec": {
      "name": "python3",
      "display_name": "Python 3"
    },
    "language_info": {
      "name": "python"
    }
  },
  "cells": [
    {
      "cell_type": "markdown",
      "source": [
        "#Logistic regression assignment"
      ],
      "metadata": {
        "id": "32XJArtGGQk3"
      }
    },
    {
      "cell_type": "markdown",
      "source": [
        "1.What is Logistic Regression, and how does it differ from Linear Regression?\n",
        "-> **Logistic Regression** is a statistical method used for **binary classification**, i.e., predicting whether something belongs to **class 0 or 1** (like yes/no, spam/not spam).\n",
        "\n",
        "**Difference from Linear Regression**:\n",
        "\n",
        "| Aspect          | Linear Regression                   | Logistic Regression                      |\n",
        "| --------------- | ----------------------------------- | ---------------------------------------- |\n",
        "| Output Type     | Continuous value (e.g., 2.5, 100.8) | Probability between 0 and 1              |\n",
        "| Use Case        | Predicting numbers                  | Classifying categories                   |\n",
        "| Output Function | Line equation: $y = mx + c$         | Sigmoid function: $\\frac{1}{1 + e^{-z}}$ |\n",
        "| Goal            | Minimize squared error              | Maximize likelihood (log loss)           |\n",
        "\n",
        "Linear Regression predicts **how much**, while Logistic Regression predicts **yes or no**.\n"
      ],
      "metadata": {
        "id": "Bvn2vhKpBPj3"
      }
    },
    {
      "cell_type": "markdown",
      "source": [
        "2. What is the mathematical equation of Logistic Regression?\n",
        "-> The **mathematical equation** of Logistic Regression is:\n",
        "\n",
        "$$\n",
        "P(y = 1 \\mid x) = \\frac{1}{1 + e^{-(\\beta_0 + \\beta_1 x_1 + \\beta_2 x_2 + \\dots + \\beta_n x_n)}}\n",
        "$$\n",
        "\n",
        "It uses the **sigmoid function** to convert the linear equation into a **probability between 0 and 1**.\n"
      ],
      "metadata": {
        "id": "xoNyrxqlBulF"
      }
    },
    {
      "cell_type": "markdown",
      "source": [
        "3. Why do we use the Sigmoid function in Logistic Regression?\n",
        "-> We use the **Sigmoid function** in Logistic Regression because it:\n",
        "\n",
        "* **Converts any real number** (from the linear equation)\n",
        "* **Into a probability** between **0 and 1**\n",
        "\n",
        "This makes it ideal for **binary classification**, where the output needs to represent the **chance of belonging to class 1**.\n",
        "\n",
        "   Sigmoid turns raw scores into probabilities for decision-making.\n"
      ],
      "metadata": {
        "id": "oRFzX5MoB7Uz"
      }
    },
    {
      "cell_type": "markdown",
      "source": [
        "4. What is the cost function of Logistic Regression?\n",
        "-> The **cost function** of Logistic Regression is the **Log Loss** (also called **Binary Cross-Entropy**):\n",
        "\n",
        "$$\n",
        "J(\\theta) = -\\frac{1}{m} \\sum_{i=1}^{m} \\left[ y^{(i)} \\log(h_\\theta(x^{(i)})) + (1 - y^{(i)}) \\log(1 - h_\\theta(x^{(i)})) \\right]\n",
        "$$\n",
        "\n",
        "It measures how well the predicted probabilities match the actual labels — lower cost means better predictions.\n"
      ],
      "metadata": {
        "id": "ysPUABiSCYED"
      }
    },
    {
      "cell_type": "markdown",
      "source": [
        "5. What is Regularization in Logistic Regression? Why is it needed?\n",
        "-> **Regularization** in Logistic Regression is a technique used to **prevent overfitting** by **penalizing large coefficients** in the model.\n",
        "\n",
        "### Common Types:\n",
        "\n",
        "* **L1 (Lasso)**: Adds sum of absolute weights\n",
        "* **L2 (Ridge)**: Adds sum of squared weights\n",
        "\n",
        "### Why it's needed:\n",
        "\n",
        "* To make the model **simpler and more general**\n",
        "* Helps it **perform better on new (unseen) data**\n",
        "\n",
        "Regularization keeps the model from becoming too complex and ensures better **accuracy on test data**.\n"
      ],
      "metadata": {
        "id": "hfdauENhCvxh"
      }
    },
    {
      "cell_type": "markdown",
      "source": [
        "6. Explain the difference between Lasso, Ridge, and Elastic Net regression?\n",
        "->\n",
        "---\n",
        "\n",
        "### 🔸 **Lasso Regression**\n",
        "\n",
        "* **Penalty Term:**\n",
        "\n",
        "  $$\n",
        "  \\lambda \\sum |\\beta_i|\n",
        "  $$\n",
        "* **Effect:**\n",
        "  Shrinks some coefficients **to zero** → good for **feature selection**\n",
        "\n",
        "---\n",
        "\n",
        "### 🔸 **Ridge Regression**\n",
        "\n",
        "* **Penalty Term:**\n",
        "\n",
        "  $$\n",
        "  \\lambda \\sum \\beta_i^2\n",
        "  $$\n",
        "* **Effect:**\n",
        "  Shrinks coefficients but **keeps all features** → good for **stability**\n",
        "\n",
        "---\n",
        "\n",
        "### 🔸 **Elastic Net Regression**\n",
        "\n",
        "* **Penalty Term:**\n",
        "\n",
        "  $$\n",
        "  \\lambda_1 \\sum |\\beta_i| + \\lambda_2 \\sum \\beta_i^2\n",
        "  $$\n",
        "* **Effect:**\n",
        "  **Mix of Lasso and Ridge** → balances feature selection and stability\n",
        "\n",
        "---\n",
        "\n",
        "### ✅ **In Short:**\n",
        "\n",
        "| Type            | Feature Selection | Keeps All Features | Penalty Type         |\n",
        "| --------------- | ----------------- | ------------------ | -------------------- |\n",
        "| **Lasso**       | ✅ Yes             | ❌ No               | L1 (absolute values) |\n",
        "| **Ridge**       | ❌ No              | ✅ Yes              | L2 (squares)         |\n",
        "| **Elastic Net** | ⚖️ Balanced       | ⚖️ Balanced        | L1 + L2 (combined)   |\n"
      ],
      "metadata": {
        "id": "D9xNMAxHDEst"
      }
    },
    {
      "cell_type": "markdown",
      "source": [
        "7. When should we use Elastic Net instead of Lasso or Ridge?\n",
        "-> Use **Elastic Net** when:\n",
        "\n",
        "* **There are many correlated features**: Lasso tends to pick one and ignore others, while Elastic Net can include groups of correlated features.\n",
        "* **You want both feature selection and regularization**: Elastic Net combines Lasso's (L1) sparsity and Ridge's (L2) stability.\n",
        "* **Lasso underperforms** (e.g., when number of features > number of samples): Elastic Net can perform better by balancing L1 and L2.\n",
        "\n",
        " **Use Elastic Net when you want a mix of Lasso and Ridge benefits, especially with correlated or high-dimensional data.**\n"
      ],
      "metadata": {
        "id": "TFXhW30cH8LX"
      }
    },
    {
      "cell_type": "markdown",
      "source": [
        "8. What is the impact of the regularization parameter (λ) in Logistic Regression?\n",
        "->In **Logistic Regression**, the regularization parameter **λ (lambda)** controls the **strength of penalty** on model complexity:\n",
        "\n",
        "* **Large λ** → More regularization → **Simpler model**, may **underfit**.\n",
        "* **Small λ** → Less regularization → **Complex model**, may **overfit**.\n",
        "* **λ = 0** → No regularization → Pure logistic regression.\n",
        "\n",
        " λ balances between **underfitting and overfitting** by controlling model simplicity.\n"
      ],
      "metadata": {
        "id": "YQcERmMjCzGM"
      }
    },
    {
      "cell_type": "markdown",
      "source": [
        "9. What are the key assumptions of Logistic Regression?\n",
        "->\n",
        "*  Linear relationship between features and log-odds\n",
        "* No multicollinearity\n",
        "* Large sample size\n",
        "* Independent observations\n",
        "* Features are not highly correlated\n"
      ],
      "metadata": {
        "id": "_mdkbuUMDS7z"
      }
    },
    {
      "cell_type": "markdown",
      "source": [
        "10.What are some alternatives to Logistic Regression for classification tasks?\n",
        "\n",
        "->\n",
        "* Decision Tree\n",
        "* Random Forest\n",
        "* Support Vector Machine (SVM)\n",
        "* K-Nearest Neighbors (KNN)\n",
        "* Naive Bayes\n",
        "* Gradient Boosting (e.g., XGBoost)\n",
        "* Neural Networks\n"
      ],
      "metadata": {
        "id": "Y1r4-oehDeUB"
      }
    },
    {
      "cell_type": "markdown",
      "source": [
        "11. What are Classification Evaluation Metrics?\n",
        "-> Classification evaluation metrics include accuracy, which measures overall correctness; precision, which tells how many predicted positives are actually correct; recall, which checks how many actual positives are correctly found; F1-score, which balances precision and recall; ROC-AUC, which shows the model’s ability to separate classes; and the confusion matrix, which summarizes predictions as true/false positives and negatives.\n"
      ],
      "metadata": {
        "id": "PSygjZpcDobB"
      }
    },
    {
      "cell_type": "markdown",
      "source": [
        "12. How does class imbalance affect Logistic Regression?\n",
        "-> Class imbalance affects Logistic Regression by making the model favor the majority class, resulting in high overall accuracy but poor recall and precision for the minority class. It may fail to detect important patterns from the underrepresented class, leading to misleading performance.\n"
      ],
      "metadata": {
        "id": "pN7OxpgmECDR"
      }
    },
    {
      "cell_type": "markdown",
      "source": [
        "13. What is Hyperparameter Tuning in Logistic Regression?\n",
        "-> Hyperparameter tuning in Logistic Regression involves adjusting settings like the regularization parameter (λ), type of regularization (L1 or L2), and solver to find the combination that gives the best prediction accuracy. It helps balance bias and variance for better generalization on new data.\n"
      ],
      "metadata": {
        "id": "9wBomsKoEQ4g"
      }
    },
    {
      "cell_type": "markdown",
      "source": [
        "14. What are different solvers in Logistic Regression? Which one should be used?\n",
        "-> Logistic Regression solvers include **liblinear**, **lbfgs**, **saga**, **newton-cg**, and **sag**.\n",
        "\n",
        "* **liblinear**: Good for small datasets, supports L1 and L2.\n",
        "* **lbfgs**: Efficient for large datasets, supports only L2.\n",
        "* **saga**: Handles large datasets and supports L1, L2, and elastic net.\n",
        "* **newton-cg** and **sag**: Good for large datasets, L2 only.\n",
        "\n",
        "Use **liblinear** for small or L1 problems, **lbfgs** or **saga** for larger data and more flexibility.\n"
      ],
      "metadata": {
        "id": "C8-GlqdAEiDM"
      }
    },
    {
      "cell_type": "markdown",
      "source": [
        "15. How is Logistic Regression extended for multiclass classification?\n",
        "-> Logistic Regression is extended for multiclass classification using **One-vs-Rest (OvR)** or **Softmax (Multinomial) regression**. OvR trains one binary classifier per class, while Softmax models all classes together by predicting probabilities across multiple classes simultaneously.\n"
      ],
      "metadata": {
        "id": "jVo6w7fKE5bg"
      }
    },
    {
      "cell_type": "markdown",
      "source": [
        "16. What are the advantages and disadvantages of Logistic Regression?\n",
        "-> Advantages: Simple, fast, interpretable, works well for linearly separable data, outputs probabilities.\n",
        "\n",
        "Disadvantages: Struggles with complex/nonlinear data, sensitive to outliers, assumes linearity in log-odds, can underperform with many features.\n"
      ],
      "metadata": {
        "id": "uPkyuZq0FJES"
      }
    },
    {
      "cell_type": "markdown",
      "source": [
        "17. What are some use cases of Logistic Regression?\n",
        "-> Logistic Regression is widely used because it predicts the probability of an event occurring. In medical diagnosis, it helps identify if a patient has a disease based on symptoms. In credit scoring, it predicts if someone will repay a loan. Marketers use it to find customers likely to stop using a service (churn). It also filters spam emails and forecasts binary events like whether a user will click an ad or not. Its simplicity and probability output make it popular in these areas.\n"
      ],
      "metadata": {
        "id": "nouYdjNRFUhZ"
      }
    },
    {
      "cell_type": "markdown",
      "source": [
        "18. What is the difference between Softmax Regression and Logistic Regression?\n",
        "->\n",
        "**Logistic Regression:**\n",
        "\n",
        "* Used for binary classification (2 classes)\n",
        "* Uses sigmoid function to output probability\n",
        "* Models log-odds for one class vs. the other\n",
        "\n",
        "**Softmax Regression:**\n",
        "\n",
        "* Used for multiclass classification (3+ classes)\n",
        "* Uses softmax function to output probabilities for all classes\n",
        "* Models all classes simultaneously, probabilities sum to 1\n"
      ],
      "metadata": {
        "id": "spVNLIOOFhjP"
      }
    },
    {
      "cell_type": "markdown",
      "source": [
        "19. How do we choose between One-vs-Rest (OvR) and Softmax for multiclass classification?\n",
        "-> Choose **OvR** when you want simpler, faster training and your classes are well-separated or imbalanced. Choose **Softmax** when classes are balanced and you want better overall probability calibration by modeling all classes together.\n"
      ],
      "metadata": {
        "id": "5-E48-GaFxVu"
      }
    },
    {
      "cell_type": "markdown",
      "source": [
        "20.  How do we interpret coefficients in Logistic Regression?\n",
        "-> Coefficients show how a one-unit increase in a feature changes the **log-odds** of the outcome. Positive means higher odds; negative means lower odds. Exponentiating coefficients gives the **odds ratio**, showing how the odds multiply per unit increase.\n"
      ],
      "metadata": {
        "id": "48zi5_tIF76i"
      }
    },
    {
      "cell_type": "markdown",
      "source": [
        "#Practical questions"
      ],
      "metadata": {
        "id": "QcH2vqIGGKgU"
      }
    },
    {
      "cell_type": "code",
      "source": [
        "#1. Write a Python program that loads a dataset, splits it into training and testing sets, applies Logistic Regression, and prints the model accuracy\n",
        "\n",
        "from sklearn.model_selection import train_test_split\n",
        "from sklearn.linear_model import LogisticRegression\n",
        "from sklearn.metrics import accuracy_score\n",
        "from sklearn.datasets import load_iris\n",
        "import pandas as pd\n",
        "\n",
        "iris = load_iris()\n",
        "X = iris.data\n",
        "y = iris.target\n",
        "\n",
        "X = X[y != 2]\n",
        "y = y[y != 2]\n",
        "\n",
        "X_train, X_test, y_train, y_test = train_test_split(X, y, test_size=0.2, random_state=42)\n",
        "\n",
        "model = LogisticRegression(solver='liblinear')\n",
        "\n",
        "model.fit(X_train, y_train)\n",
        "\n",
        "y_pred = model.predict(X_test)\n",
        "\n",
        "accuracy = accuracy_score(y_test, y_pred)\n",
        "\n",
        "print(f\"Model Accuracy: {accuracy:.4f}\")\n"
      ],
      "metadata": {
        "colab": {
          "base_uri": "https://localhost:8080/"
        },
        "id": "dUYw6R_iGIhC",
        "outputId": "5bd55cb3-a17f-4789-c0d2-bb0a86be088f"
      },
      "execution_count": 1,
      "outputs": [
        {
          "output_type": "stream",
          "name": "stdout",
          "text": [
            "Model Accuracy: 1.0000\n"
          ]
        }
      ]
    },
    {
      "cell_type": "code",
      "source": [
        "# 2. Write a Python program to apply L1 regularization (Lasso) on a dataset using LogisticRegression(penalty='l1') and print the model accuracy\n",
        "\n",
        "model_l1 = LogisticRegression(penalty='l1', solver='liblinear')\n",
        "\n",
        "model_l1.fit(X_train, y_train)\n",
        "\n",
        "y_pred_l1 = model_l1.predict(X_test)\n",
        "\n",
        "accuracy_l1 = accuracy_score(y_test, y_pred_l1)\n",
        "\n",
        "print(f\"Model Accuracy with L1 Regularization (Lasso): {accuracy_l1:.4f}\")"
      ],
      "metadata": {
        "colab": {
          "base_uri": "https://localhost:8080/"
        },
        "id": "aJ2p3nxfG2ox",
        "outputId": "fda0761b-749b-4e0e-88f8-9adfa2be62b2"
      },
      "execution_count": 2,
      "outputs": [
        {
          "output_type": "stream",
          "name": "stdout",
          "text": [
            "Model Accuracy with L1 Regularization (Lasso): 1.0000\n"
          ]
        }
      ]
    },
    {
      "cell_type": "code",
      "source": [
        "# 3. Write a Python program to train Logistic Regression with L2 regularization (Ridge) using\n",
        "# LogisticRegression(penalty='l2'). Print model accuracy and coefficients\n",
        "\n",
        "model_l2 = LogisticRegression(penalty='l2', solver='liblinear')\n",
        "\n",
        "model_l2.fit(X_train, y_train)\n",
        "\n",
        "y_pred_l2 = model_l2.predict(X_test)\n",
        "\n",
        "accuracy_l2 = accuracy_score(y_test, y_pred_l2)\n",
        "\n",
        "print(f\"Model Accuracy with L2 Regularization (Ridge): {accuracy_l2:.4f}\")\n",
        "print(f\"Model Coefficients with L2 Regularization (Ridge): {model_l2.coef_}\")\n",
        "print(f\"Model Intercept with L2 Regularization (Ridge): {model_l2.intercept_}\")"
      ],
      "metadata": {
        "colab": {
          "base_uri": "https://localhost:8080/"
        },
        "id": "sg7ynPqfHEc-",
        "outputId": "3492fe8f-362f-4c8d-e247-04207328e067"
      },
      "execution_count": 3,
      "outputs": [
        {
          "output_type": "stream",
          "name": "stdout",
          "text": [
            "Model Accuracy with L2 Regularization (Ridge): 1.0000\n",
            "Model Coefficients with L2 Regularization (Ridge): [[-0.3753915  -1.39664105  2.15250857  0.96423532]]\n",
            "Model Intercept with L2 Regularization (Ridge): [-0.25637406]\n"
          ]
        }
      ]
    },
    {
      "cell_type": "code",
      "source": [
        "#4. Write a Python program to train Logistic Regression with Elastic Net Regularization (penalty='elasticnet')\n",
        "\n",
        "model_elasticnet = LogisticRegression(penalty='elasticnet', solver='saga', l1_ratio=0.5)\n",
        "\n",
        "model_elasticnet.fit(X_train, y_train)\n",
        "\n",
        "y_pred_elasticnet = model_elasticnet.predict(X_test)\n",
        "\n",
        "accuracy_elasticnet = accuracy_score(y_test, y_pred_elasticnet)\n",
        "\n",
        "print(f\"Model Accuracy with Elastic Net Regularization: {accuracy_elasticnet:.4f}\")\n",
        "print(f\"Model Coefficients with Elastic Net Regularization: {model_elasticnet.coef_}\")\n",
        "print(f\"Model Intercept with Elastic Net Regularization: {model_elasticnet.intercept_}\")"
      ],
      "metadata": {
        "colab": {
          "base_uri": "https://localhost:8080/"
        },
        "id": "EQEBvh3kHSUd",
        "outputId": "6cbd861c-02ff-4788-8fa5-41272c83b72e"
      },
      "execution_count": 4,
      "outputs": [
        {
          "output_type": "stream",
          "name": "stdout",
          "text": [
            "Model Accuracy with Elastic Net Regularization: 1.0000\n",
            "Model Coefficients with Elastic Net Regularization: [[-0.22197148 -1.55265953  2.3292622   0.69323334]]\n",
            "Model Intercept with Elastic Net Regularization: [-0.85473093]\n"
          ]
        },
        {
          "output_type": "stream",
          "name": "stderr",
          "text": [
            "/usr/local/lib/python3.11/dist-packages/sklearn/linear_model/_sag.py:348: ConvergenceWarning: The max_iter was reached which means the coef_ did not converge\n",
            "  warnings.warn(\n"
          ]
        }
      ]
    },
    {
      "cell_type": "code",
      "source": [
        "# 5. Write a Python program to train a Logistic Regression model for multiclass classification using\n",
        "# multi_class='ovr'\n",
        "\n",
        "iris_full = load_iris()\n",
        "X_full = iris_full.data\n",
        "y_full = iris_full.target\n",
        "\n",
        "X_train_full, X_test_full, y_train_full, y_test_full = train_test_split(X_full, y_full, test_size=0.2, random_state=42)\n",
        "\n",
        "model_ovr = LogisticRegression(multi_class='ovr', solver='lbfgs', max_iter=1000) # Increased max_iter for convergence\n",
        "\n",
        "model_ovr.fit(X_train_full, y_train_full)\n",
        "\n",
        "y_pred_ovr = model_ovr.predict(X_test_full)\n",
        "\n",
        "accuracy_ovr = accuracy_score(y_test_full, y_pred_ovr)\n",
        "\n",
        "print(f\"Model Accuracy with multiclass='ovr': {accuracy_ovr:.4f}\")\n",
        "print(f\"Model Coefficients with multiclass='ovr':\")\n",
        "\n",
        "for i, coef in enumerate(model_ovr.coef_):\n",
        "  print(f\"  Class {i}: {coef}\")\n",
        "print(f\"Model Intercepts with multiclass='ovr': {model_ovr.intercept_}\")"
      ],
      "metadata": {
        "colab": {
          "base_uri": "https://localhost:8080/"
        },
        "id": "kbTjJdljHcV0",
        "outputId": "76d005c7-014b-4ef2-909c-50f89344ce26"
      },
      "execution_count": 5,
      "outputs": [
        {
          "output_type": "stream",
          "name": "stdout",
          "text": [
            "Model Accuracy with multiclass='ovr': 0.9667\n",
            "Model Coefficients with multiclass='ovr':\n",
            "  Class 0: [-0.42762216  0.88771927 -2.21471658 -0.91610036]\n",
            "  Class 1: [-0.03387836 -2.0442989   0.54266011 -1.0179372 ]\n",
            "  Class 2: [-0.38904645 -0.62147609  2.7762982   2.09067085]\n",
            "Model Intercepts with multiclass='ovr': [  6.24415327   4.81099217 -12.83530153]\n"
          ]
        },
        {
          "output_type": "stream",
          "name": "stderr",
          "text": [
            "/usr/local/lib/python3.11/dist-packages/sklearn/linear_model/_logistic.py:1256: FutureWarning: 'multi_class' was deprecated in version 1.5 and will be removed in 1.7. Use OneVsRestClassifier(LogisticRegression(..)) instead. Leave it to its default value to avoid this warning.\n",
            "  warnings.warn(\n"
          ]
        }
      ]
    },
    {
      "cell_type": "code",
      "source": [
        "#6. Write a Python program to apply GridSearchCV to tune the hyperparameters (C and penalty) of Logistic\n",
        "# Regression. Print the best parameters and accuracy\n",
        "\n",
        "from sklearn.model_selection import GridSearchCV\n",
        "\n",
        "param_grid = {'C': [0.001, 0.01, 0.1, 1, 10, 100],\n",
        "              'penalty': ['l1', 'l2']}\n",
        "\n",
        "logreg = LogisticRegression(solver='liblinear', max_iter=1000)\n",
        "\n",
        "grid_search = GridSearchCV(logreg, param_grid, cv=5, scoring='accuracy')\n",
        "\n",
        "grid_search.fit(X_train, y_train)\n",
        "\n",
        "print(\"Best Parameters:\", grid_search.best_params_)\n",
        "print(\"Best Accuracy:\", grid_search.best_score_)\n",
        "\n",
        "best_model = grid_search.best_estimator_\n",
        "\n",
        "y_pred_tuned = best_model.predict(X_test)\n",
        "accuracy_tuned = accuracy_score(y_test, y_pred_tuned)\n",
        "print(f\"Test Accuracy with Tuned Parameters: {accuracy_tuned:.4f}\")\n"
      ],
      "metadata": {
        "colab": {
          "base_uri": "https://localhost:8080/"
        },
        "id": "s0arEdtZHtdF",
        "outputId": "af4eaed6-cecf-485b-f4fd-dedcbec8e22c"
      },
      "execution_count": 6,
      "outputs": [
        {
          "output_type": "stream",
          "name": "stdout",
          "text": [
            "Best Parameters: {'C': 0.01, 'penalty': 'l2'}\n",
            "Best Accuracy: 1.0\n",
            "Test Accuracy with Tuned Parameters: 1.0000\n"
          ]
        }
      ]
    },
    {
      "cell_type": "code",
      "source": [
        "#7. Write a Python program to evaluate Logistic Regression using Stratified K-Fold Cross-Validation. Print the\n",
        "# average accuracy\n",
        "\n",
        "from sklearn.model_selection import StratifiedKFold\n",
        "import numpy as np\n",
        "\n",
        "n_splits = 5\n",
        "skf = StratifiedKFold(n_splits=n_splits, shuffle=True, random_state=42)\n",
        "\n",
        "accuracy_scores = []\n",
        "\n",
        "for fold, (train_index, test_index) in enumerate(skf.split(X, y)):\n",
        "    print(f\"Fold {fold+1}/{n_splits}\")\n",
        "\n",
        "    X_train, X_test = X[train_index], X[test_index]\n",
        "    y_train, y_test = y[train_index], y[test_index]\n",
        "\n",
        "    model = LogisticRegression(solver='liblinear', max_iter=1000)\n",
        "    model.fit(X_train, y_train)\n",
        "\n",
        "    y_pred = model.predict(X_test)\n",
        "\n",
        "    accuracy = accuracy_score(y_test, y_pred)\n",
        "    print(f\"  Accuracy: {accuracy:.4f}\")\n",
        "    accuracy_scores.append(accuracy)\n",
        "\n",
        "average_accuracy = np.mean(accuracy_scores)\n",
        "print(f\"\\nAverage Accuracy across {n_splits} folds: {average_accuracy:.4f}\")\n"
      ],
      "metadata": {
        "colab": {
          "base_uri": "https://localhost:8080/"
        },
        "id": "l2iIy4yUH99B",
        "outputId": "85c06289-d5fe-4e62-d412-405ecc22b4e2"
      },
      "execution_count": 7,
      "outputs": [
        {
          "output_type": "stream",
          "name": "stdout",
          "text": [
            "Fold 1/5\n",
            "  Accuracy: 1.0000\n",
            "Fold 2/5\n",
            "  Accuracy: 1.0000\n",
            "Fold 3/5\n",
            "  Accuracy: 1.0000\n",
            "Fold 4/5\n",
            "  Accuracy: 1.0000\n",
            "Fold 5/5\n",
            "  Accuracy: 1.0000\n",
            "\n",
            "Average Accuracy across 5 folds: 1.0000\n"
          ]
        }
      ]
    },
    {
      "cell_type": "code",
      "source": [
        "# 8. Write a Python program to load a dataset from a CSV file, apply Logistic Regression, and evaluate its\n",
        "# accuracy\n",
        "\n",
        "import pandas as pd\n",
        "!wget https://archive.ics.uci.edu/ml/machine-learning-databases/iris/iris.data -O iris.csv\n",
        "\n",
        "df = pd.read_csv('iris.csv', header=None)\n",
        "\n",
        "X = df.iloc[:, :-1]\n",
        "y = df.iloc[:, -1]\n",
        "\n",
        "y = y.map({'Iris-setosa': 0, 'Iris-versicolor': 1, 'Iris-virginica': 2})\n",
        "\n",
        "X = X[y != 2]\n",
        "y = y[y != 2]\n",
        "\n",
        "X_train, X_test, y_train, y_test = train_test_split(X, y, test_size=0.2, random_state=42)\n",
        "\n",
        "model = LogisticRegression(solver='liblinear')\n",
        "\n",
        "model.fit(X_train, y_train)\n",
        "\n",
        "y_pred = model.predict(X_test)\n",
        "\n",
        "accuracy = accuracy_score(y_test, y_pred)\n",
        "\n",
        "print(f\"Model Accuracy: {accuracy:.4f}\")"
      ],
      "metadata": {
        "colab": {
          "base_uri": "https://localhost:8080/"
        },
        "id": "TkAWT7W5IP1G",
        "outputId": "fa7ae362-47ae-450c-8e4d-a17468779e45"
      },
      "execution_count": 8,
      "outputs": [
        {
          "output_type": "stream",
          "name": "stdout",
          "text": [
            "--2025-05-20 19:18:11--  https://archive.ics.uci.edu/ml/machine-learning-databases/iris/iris.data\n",
            "Resolving archive.ics.uci.edu (archive.ics.uci.edu)... 128.195.10.252\n",
            "Connecting to archive.ics.uci.edu (archive.ics.uci.edu)|128.195.10.252|:443... connected.\n",
            "HTTP request sent, awaiting response... 200 OK\n",
            "Length: unspecified\n",
            "Saving to: ‘iris.csv’\n",
            "\n",
            "iris.csv                [ <=>                ]   4.44K  --.-KB/s    in 0s      \n",
            "\n",
            "2025-05-20 19:18:11 (67.4 MB/s) - ‘iris.csv’ saved [4551]\n",
            "\n",
            "Model Accuracy: 1.0000\n"
          ]
        }
      ]
    },
    {
      "cell_type": "code",
      "source": [
        "# 9. Write a Python program to apply RandomizedSearchCV for tuning hyperparameters (C, penalty, solver) in\n",
        "# Logistic Regression. Print the best parameters and accuracy\n",
        "\n",
        "from sklearn.model_selection import RandomizedSearchCV\n",
        "from scipy.stats import uniform, loguniform\n",
        "\n",
        "param_dist = {'C': loguniform(0.001, 100),\n",
        "              'penalty': ['l1', 'l2', 'elasticnet'],\n",
        "              'solver': ['liblinear', 'lbfgs', 'saga']}\n",
        "\n",
        "logreg = LogisticRegression(max_iter=1000)\n",
        "\n",
        "n_iter_search = 20\n",
        "random_search = RandomizedSearchCV(logreg, param_distributions=param_dist,\n",
        "                                   n_iter=n_iter_search, cv=5, scoring='accuracy', random_state=42, n_jobs=-1)\n",
        "\n",
        "random_search.fit(X_train, y_train)\n",
        "\n",
        "print(\"Best Parameters:\", random_search.best_params_)\n",
        "print(\"Best Cross-Validation Accuracy:\", random_search.best_score_)\n",
        "\n",
        "best_model_rand = random_search.best_estimator_\n",
        "\n",
        "y_pred_rand_tuned = best_model_rand.predict(X_test)\n",
        "accuracy_rand_tuned = accuracy_score(y_test, y_pred_rand_tuned)\n",
        "print(f\"Test Accuracy with Tuned Parameters (RandomizedSearch): {accuracy_rand_tuned:.4f}\")\n"
      ],
      "metadata": {
        "colab": {
          "base_uri": "https://localhost:8080/"
        },
        "id": "V7lYb5lDIaRC",
        "outputId": "059aab4c-f9fe-4575-8e15-4daa0099d80e"
      },
      "execution_count": 9,
      "outputs": [
        {
          "output_type": "stream",
          "name": "stdout",
          "text": [
            "Best Parameters: {'C': np.float64(0.0745934328572655), 'penalty': 'l1', 'solver': 'saga'}\n",
            "Best Cross-Validation Accuracy: 1.0\n",
            "Test Accuracy with Tuned Parameters (RandomizedSearch): 1.0000\n"
          ]
        },
        {
          "output_type": "stream",
          "name": "stderr",
          "text": [
            "/usr/local/lib/python3.11/dist-packages/sklearn/model_selection/_validation.py:528: FitFailedWarning: \n",
            "35 fits failed out of a total of 100.\n",
            "The score on these train-test partitions for these parameters will be set to nan.\n",
            "If these failures are not expected, you can try to debug them by setting error_score='raise'.\n",
            "\n",
            "Below are more details about the failures:\n",
            "--------------------------------------------------------------------------------\n",
            "20 fits failed with the following error:\n",
            "Traceback (most recent call last):\n",
            "  File \"/usr/local/lib/python3.11/dist-packages/sklearn/model_selection/_validation.py\", line 866, in _fit_and_score\n",
            "    estimator.fit(X_train, y_train, **fit_params)\n",
            "  File \"/usr/local/lib/python3.11/dist-packages/sklearn/base.py\", line 1389, in wrapper\n",
            "    return fit_method(estimator, *args, **kwargs)\n",
            "           ^^^^^^^^^^^^^^^^^^^^^^^^^^^^^^^^^^^^^^\n",
            "  File \"/usr/local/lib/python3.11/dist-packages/sklearn/linear_model/_logistic.py\", line 1203, in fit\n",
            "    raise ValueError(\"l1_ratio must be specified when penalty is elasticnet.\")\n",
            "ValueError: l1_ratio must be specified when penalty is elasticnet.\n",
            "\n",
            "--------------------------------------------------------------------------------\n",
            "10 fits failed with the following error:\n",
            "Traceback (most recent call last):\n",
            "  File \"/usr/local/lib/python3.11/dist-packages/sklearn/model_selection/_validation.py\", line 866, in _fit_and_score\n",
            "    estimator.fit(X_train, y_train, **fit_params)\n",
            "  File \"/usr/local/lib/python3.11/dist-packages/sklearn/base.py\", line 1389, in wrapper\n",
            "    return fit_method(estimator, *args, **kwargs)\n",
            "           ^^^^^^^^^^^^^^^^^^^^^^^^^^^^^^^^^^^^^^\n",
            "  File \"/usr/local/lib/python3.11/dist-packages/sklearn/linear_model/_logistic.py\", line 1193, in fit\n",
            "    solver = _check_solver(self.solver, self.penalty, self.dual)\n",
            "             ^^^^^^^^^^^^^^^^^^^^^^^^^^^^^^^^^^^^^^^^^^^^^^^^^^^\n",
            "  File \"/usr/local/lib/python3.11/dist-packages/sklearn/linear_model/_logistic.py\", line 63, in _check_solver\n",
            "    raise ValueError(\n",
            "ValueError: Solver lbfgs supports only 'l2' or None penalties, got elasticnet penalty.\n",
            "\n",
            "--------------------------------------------------------------------------------\n",
            "5 fits failed with the following error:\n",
            "Traceback (most recent call last):\n",
            "  File \"/usr/local/lib/python3.11/dist-packages/sklearn/model_selection/_validation.py\", line 866, in _fit_and_score\n",
            "    estimator.fit(X_train, y_train, **fit_params)\n",
            "  File \"/usr/local/lib/python3.11/dist-packages/sklearn/base.py\", line 1389, in wrapper\n",
            "    return fit_method(estimator, *args, **kwargs)\n",
            "           ^^^^^^^^^^^^^^^^^^^^^^^^^^^^^^^^^^^^^^\n",
            "  File \"/usr/local/lib/python3.11/dist-packages/sklearn/linear_model/_logistic.py\", line 1193, in fit\n",
            "    solver = _check_solver(self.solver, self.penalty, self.dual)\n",
            "             ^^^^^^^^^^^^^^^^^^^^^^^^^^^^^^^^^^^^^^^^^^^^^^^^^^^\n",
            "  File \"/usr/local/lib/python3.11/dist-packages/sklearn/linear_model/_logistic.py\", line 71, in _check_solver\n",
            "    raise ValueError(\n",
            "ValueError: Only 'saga' solver supports elasticnet penalty, got solver=liblinear.\n",
            "\n",
            "  warnings.warn(some_fits_failed_message, FitFailedWarning)\n",
            "/usr/local/lib/python3.11/dist-packages/sklearn/model_selection/_search.py:1108: UserWarning: One or more of the test scores are non-finite: [1.     1.        nan 0.5    0.7125 0.475  1.     1.     1.        nan\n",
            "    nan    nan    nan 1.     1.        nan    nan 1.     1.     1.    ]\n",
            "  warnings.warn(\n"
          ]
        }
      ]
    },
    {
      "cell_type": "code",
      "source": [
        "# 10. Write a Python program to implement One-vs-One (OvO) Multiclass Logistic Regression and print accuracy\n",
        "\n",
        "from sklearn.multiclass import OneVsOneClassifier\n",
        "from sklearn.svm import LinearSVC\n",
        "\n",
        "iris_full = load_iris()\n",
        "X_full = iris_full.data\n",
        "y_full = iris_full.target\n",
        "\n",
        "X_train_full, X_test_full, y_train_full, y_test_full = train_test_split(X_full, y_full, test_size=0.2, random_state=42)\n",
        "\n",
        "base_model = LogisticRegression(solver='liblinear', max_iter=1000)\n",
        "\n",
        "ovo_model = OneVsOneClassifier(base_model)\n",
        "\n",
        "ovo_model.fit(X_train_full, y_train_full)\n",
        "\n",
        "y_pred_ovo = ovo_model.predict(X_test_full)\n",
        "\n",
        "accuracy_ovo = accuracy_score(y_test_full, y_pred_ovo)\n",
        "\n",
        "print(f\"Model Accuracy with One-vs-One (OvO) Logistic Regression: {accuracy_ovo:.4f}\")\n"
      ],
      "metadata": {
        "colab": {
          "base_uri": "https://localhost:8080/"
        },
        "id": "FCJwYubtIrdw",
        "outputId": "05f9b08a-8fba-4c48-9286-d052d80127f4"
      },
      "execution_count": 10,
      "outputs": [
        {
          "output_type": "stream",
          "name": "stdout",
          "text": [
            "Model Accuracy with One-vs-One (OvO) Logistic Regression: 1.0000\n"
          ]
        }
      ]
    },
    {
      "cell_type": "code",
      "source": [
        "# 11. Write a Python program to train a Logistic Regression model and visualize the confusion matrix for binary\n",
        "# classification\n",
        "\n",
        "import matplotlib.pyplot as plt\n",
        "import seaborn as sns\n",
        "from sklearn.metrics import confusion_matrix\n",
        "\n",
        "cm = confusion_matrix(y_test, y_pred)\n",
        "\n",
        "plt.figure(figsize=(8, 6))\n",
        "sns.heatmap(cm, annot=True, fmt='d', cmap='Blues', xticklabels=iris.target_names[:2], yticklabels=iris.target_names[:2])\n",
        "plt.xlabel('Predicted Label')\n",
        "plt.ylabel('True Label')\n",
        "plt.title('Confusion Matrix for Binary Classification')\n",
        "plt.show()"
      ],
      "metadata": {
        "colab": {
          "base_uri": "https://localhost:8080/",
          "height": 564
        },
        "id": "U9DEid-MI-5G",
        "outputId": "3ce8c10a-339e-401e-88eb-681ee6b07d57"
      },
      "execution_count": 11,
      "outputs": [
        {
          "output_type": "display_data",
          "data": {
            "text/plain": [
              "<Figure size 800x600 with 2 Axes>"
            ],
            "image/png": "[encoded data removed]"
          },
          "metadata": {}
        }
      ]
    },
    {
      "cell_type": "code",
      "source": [
        "# 12. Write a Python program to train a Logistic Regression model and evaluate its performance using Precision,\n",
        "# Recall, and F1-Score\n",
        "\n",
        "from sklearn.metrics import precision_score, recall_score, f1_score\n",
        "\n",
        "precision = precision_score(y_test, y_pred)\n",
        "recall = recall_score(y_test, y_pred)\n",
        "f1 = f1_score(y_test, y_pred)\n",
        "\n",
        "print(f\"\\nEvaluation Metrics for Binary Logistic Regression:\")\n",
        "print(f\"Precision: {precision:.4f}\")\n",
        "print(f\"Recall: {recall:.4f}\")\n",
        "print(f\"F1-Score: {f1:.4f}\")"
      ],
      "metadata": {
        "colab": {
          "base_uri": "https://localhost:8080/"
        },
        "id": "3uhHl8W-JIph",
        "outputId": "d9a0b4d1-5617-41b2-99a4-e441ca44b012"
      },
      "execution_count": 12,
      "outputs": [
        {
          "output_type": "stream",
          "name": "stdout",
          "text": [
            "\n",
            "Evaluation Metrics for Binary Logistic Regression:\n",
            "Precision: 1.0000\n",
            "Recall: 1.0000\n",
            "F1-Score: 1.0000\n"
          ]
        }
      ]
    },
    {
      "cell_type": "code",
      "source": [
        "#13. Write a Python program to train a Logistic Regression model on imbalanced data and apply class weights to\n",
        "# improve model performance\n",
        "\n",
        "import matplotlib.pyplot as plt\n",
        "import numpy as np\n",
        "\n",
        "from sklearn.datasets import make_classification\n",
        "\n",
        "X_imb, y_imb = make_classification(n_samples=1000, n_features=20, n_informative=2,\n",
        "                                   n_redundant=10, n_clusters_per_class=1, weights=[0.9, 0.1],\n",
        "                                   flip_y=0, random_state=42)\n",
        "\n",
        "print(f\"Original data shape: {X_imb.shape}\")\n",
        "print(f\"Class distribution: {np.bincount(y_imb)}\")\n",
        "\n",
        "X_train_imb, X_test_imb, y_train_imb, y_test_imb = train_test_split(\n",
        "    X_imb, y_imb, test_size=0.2, random_state=42, stratify=y_imb)\n",
        "\n",
        "print(f\"Training data shape: {X_train_imb.shape}, Test data shape: {X_test_imb.shape}\")\n",
        "print(f\"Training class distribution: {np.bincount(y_train_imb)}\")\n",
        "print(f\"Test class distribution: {np.bincount(y_test_imb)}\")\n",
        "\n",
        "model_no_weights = LogisticRegression(solver='liblinear', random_state=42)\n",
        "model_no_weights.fit(X_train_imb, y_train_imb)\n",
        "y_pred_no_weights = model_no_weights.predict(X_test_imb)\n",
        "\n",
        "print(\"\\n--- Model without Class Weights ---\")\n",
        "print(f\"Accuracy: {accuracy_score(y_test_imb, y_pred_no_weights):.4f}\")\n",
        "print(f\"Precision: {precision_score(y_test_imb, y_pred_no_weights):.4f}\")\n",
        "print(f\"Recall: {recall_score(y_test_imb, y_pred_no_weights):.4f}\")\n",
        "print(f\"F1-Score: {f1_score(y_test_imb, y_pred_no_weights):.4f}\")\n",
        "\n",
        "model_with_weights = LogisticRegression(solver='liblinear', random_state=42, class_weight='balanced')\n",
        "model_with_weights.fit(X_train_imb, y_train_imb)\n",
        "y_pred_with_weights = model_with_weights.predict(X_test_imb)\n",
        "\n",
        "print(\"\\n--- Model with Class Weights (balanced) ---\")\n",
        "print(f\"Accuracy: {accuracy_score(y_test_imb, y_pred_with_weights):.4f}\")\n",
        "print(f\"Precision: {precision_score(y_test_imb, y_pred_with_weights):.4f}\")\n",
        "print(f\"Recall: {recall_score(y_test_imb, y_pred_with_weights):.4f}\")\n",
        "print(f\"F1-Score: {f1_score(y_test_imb, y_pred_with_weights):.4f}\")\n",
        "\n",
        "cm_no_weights = confusion_matrix(y_test_imb, y_pred_no_weights)\n",
        "cm_with_weights = confusion_matrix(y_test_imb, y_pred_with_weights)\n",
        "\n",
        "fig, axes = plt.subplots(1, 2, figsize=(14, 6))\n",
        "\n",
        "sns.heatmap(cm_no_weights, annot=True, fmt='d', cmap='Blues', ax=axes[0])\n",
        "axes[0].set_title('Confusion Matrix (No Class Weights)')\n",
        "axes[0].set_xlabel('Predicted Label')\n",
        "axes[0].set_ylabel('True Label')\n",
        "\n",
        "sns.heatmap(cm_with_weights, annot=True, fmt='d', cmap='Blues', ax=axes[1])\n",
        "axes[1].set_title('Confusion Matrix (With Class Weights)')\n",
        "axes[1].set_xlabel('Predicted Label')\n",
        "axes[1].set_ylabel('True Label')\n",
        "\n",
        "plt.tight_layout()\n",
        "plt.show()\n",
        "\n",
        "from sklearn.utils.class_weight import compute_class_weight\n",
        "classes = np.unique(y_train_imb)\n",
        "weights = compute_class_weight(class_weight='balanced', classes=classes, y=y_train_imb)\n",
        "class_weights_dict = dict(zip(classes, weights))\n",
        "print(f\"\\nManually computed class weights: {class_weights_dict}\")\n",
        "\n",
        "model_manual_weights = LogisticRegression(solver='liblinear', random_state=42, class_weight=class_weights_dict)\n",
        "model_manual_weights.fit(X_train_imb, y_train_imb)\n",
        "y_pred_manual_weights = model_manual_weights.predict(X_test_imb)\n",
        "\n",
        "print(\"\\n--- Model with Manually Computed Class Weights ---\")\n",
        "print(f\"Accuracy: {accuracy_score(y_test_imb, y_pred_manual_weights):.4f}\")\n",
        "print(f\"Precision: {precision_score(y_test_imb, y_pred_manual_weights):.4f}\")\n",
        "print(f\"Recall: {recall_score(y_test_imb, y_pred_manual_weights):.4f}\")\n",
        "print(f\"F1-Score: {f1_score(y_test_imb, y_pred_manual_weights):.4f}\")"
      ],
      "metadata": {
        "colab": {
          "base_uri": "https://localhost:8080/",
          "height": 1000
        },
        "id": "Q9mswCy1JRHS",
        "outputId": "bf6a186b-21ea-4785-b46c-dbd016cbe7dc"
      },
      "execution_count": 13,
      "outputs": [
        {
          "output_type": "stream",
          "name": "stdout",
          "text": [
            "Original data shape: (1000, 20)\n",
            "Class distribution: [900 100]\n",
            "Training data shape: (800, 20), Test data shape: (200, 20)\n",
            "Training class distribution: [720  80]\n",
            "Test class distribution: [180  20]\n",
            "\n",
            "--- Model without Class Weights ---\n",
            "Accuracy: 0.9800\n",
            "Precision: 0.9444\n",
            "Recall: 0.8500\n",
            "F1-Score: 0.8947\n",
            "\n",
            "--- Model with Class Weights (balanced) ---\n",
            "Accuracy: 0.9250\n",
            "Precision: 0.5806\n",
            "Recall: 0.9000\n",
            "F1-Score: 0.7059\n"
          ]
        },
        {
          "output_type": "display_data",
          "data": {
            "text/plain": [
              "<Figure size 1400x600 with 4 Axes>"
            ],
            "image/png": "[encoded data removed]"
          },
          "metadata": {}
        },
        {
          "output_type": "stream",
          "name": "stdout",
          "text": [
            "\n",
            "Manually computed class weights: {np.int64(0): np.float64(0.5555555555555556), np.int64(1): np.float64(5.0)}\n",
            "\n",
            "--- Model with Manually Computed Class Weights ---\n",
            "Accuracy: 0.9250\n",
            "Precision: 0.5806\n",
            "Recall: 0.9000\n",
            "F1-Score: 0.7059\n"
          ]
        }
      ]
    },
    {
      "cell_type": "code",
      "source": [
        "# 14. Write a Python program to train Logistic Regression on the Titanic dataset, handle missing values, and\n",
        "# evaluate performance\n",
        "\n",
        "import pandas as pd\n",
        "import matplotlib.pyplot as plt\n",
        "import numpy as np\n",
        "\n",
        "!pip install pandas numpy scikit-learn matplotlib seaborn\n",
        "\n",
        "!wget https://raw.githubusercontent.com/datasciencedojo/datasets/master/titanic.csv -O titanic.csv\n",
        "\n",
        "df = pd.read_csv('titanic.csv')\n",
        "\n",
        "print(\"Original DataFrame head:\")\n",
        "print(df.head())\n",
        "print(\"\\nDataFrame Info:\")\n",
        "df.info()\n",
        "print(\"\\nMissing Values:\")\n",
        "print(df.isnull().sum())\n",
        "\n",
        "df['Age'].fillna(df['Age'].median(), inplace=True)\n",
        "\n",
        "df['Embarked'].fillna(df['Embarked'].mode()[0], inplace=True)\n",
        "\n",
        "df.drop('Cabin', axis=1, inplace=True)\n",
        "\n",
        "df['Sex'] = df['Sex'].map({'female': 0, 'male': 1})\n",
        "\n",
        "df = pd.get_dummies(df, columns=['Embarked'], drop_first=True)\n",
        "\n",
        "X = df[['Pclass', 'Sex', 'Age', 'SibSp', 'Parch', 'Fare', 'Embarked_Q', 'Embarked_S']]\n",
        "y = df['Survived']\n",
        "\n",
        "print(\"\\nProcessed DataFrame head (features):\")\n",
        "print(X.head())\n",
        "print(\"\\nProcessed DataFrame Info:\")\n",
        "X.info()\n",
        "print(\"\\nMissing Values after handling:\")\n",
        "print(X.isnull().sum())\n",
        "\n",
        "X_train, X_test, y_train, y_test = train_test_split(X, y, test_size=0.2, random_state=42, stratify=y) # Stratify for class balance\n",
        "\n",
        "print(f\"\\nTraining set shape: {X_train.shape}\")\n",
        "print(f\"Testing set shape: {X_test.shape}\")\n",
        "print(f\"Training target distribution: {np.bincount(y_train)}\")\n",
        "print(f\"Testing target distribution: {np.bincount(y_test)}\")\n",
        "\n",
        "model = LogisticRegression(solver='liblinear', max_iter=1000, random_state=42)\n",
        "\n",
        "model.fit(X_train, y_train)\n",
        "\n",
        "y_pred = model.predict(X_test)\n",
        "\n",
        "accuracy = accuracy_score(y_test, y_pred)\n",
        "precision = precision_score(y_test, y_pred)\n",
        "recall = recall_score(y_test, y_pred)\n",
        "f1 = f1_score(y_test, y_pred)\n",
        "conf_matrix = confusion_matrix(y_test, y_pred)\n",
        "\n",
        "\n",
        "print(\"\\n--- Model Evaluation ---\")\n",
        "print(f\"Accuracy: {accuracy:.4f}\")\n",
        "print(f\"Precision: {precision:.4f}\")\n",
        "print(f\"Recall: {recall:.4f}\")\n",
        "print(f\"F1-Score: {f1:.4f}\")\n",
        "\n",
        "print(\"\\nConfusion Matrix:\")\n",
        "print(conf_matrix)\n",
        "\n",
        "plt.figure(figsize=(8, 6))\n",
        "sns.heatmap(conf_matrix, annot=True, fmt='d', cmap='Blues',\n",
        "            xticklabels=['Did Not Survive', 'Survived'],\n",
        "            yticklabels=['Did Not Survive', 'Survived'])\n",
        "plt.xlabel('Predicted Label')\n",
        "plt.ylabel('True Label')\n",
        "plt.title('Confusion Matrix for Titanic Survival Prediction')\n",
        "plt.show()\n"
      ],
      "metadata": {
        "colab": {
          "base_uri": "https://localhost:8080/",
          "height": 1000
        },
        "id": "oxvUGTnAJlvs",
        "outputId": "0761329c-b33c-4670-b4e1-ced52eecaefa"
      },
      "execution_count": 14,
      "outputs": [
        {
          "output_type": "stream",
          "name": "stdout",
          "text": [
            "Requirement already satisfied: pandas in /usr/local/lib/python3.11/dist-packages (2.2.2)\n",
            "Requirement already satisfied: numpy in /usr/local/lib/python3.11/dist-packages (2.0.2)\n",
            "Requirement already satisfied: scikit-learn in /usr/local/lib/python3.11/dist-packages (1.6.1)\n",
            "Requirement already satisfied: matplotlib in /usr/local/lib/python3.11/dist-packages (3.10.0)\n",
            "Requirement already satisfied: seaborn in /usr/local/lib/python3.11/dist-packages (0.13.2)\n",
            "Requirement already satisfied: python-dateutil>=2.8.2 in /usr/local/lib/python3.11/dist-packages (from pandas) (2.9.0.post0)\n",
            "Requirement already satisfied: pytz>=2020.1 in /usr/local/lib/python3.11/dist-packages (from pandas) (2025.2)\n",
            "Requirement already satisfied: tzdata>=2022.7 in /usr/local/lib/python3.11/dist-packages (from pandas) (2025.2)\n",
            "Requirement already satisfied: scipy>=1.6.0 in /usr/local/lib/python3.11/dist-packages (from scikit-learn) (1.15.3)\n",
            "Requirement already satisfied: joblib>=1.2.0 in /usr/local/lib/python3.11/dist-packages (from scikit-learn) (1.5.0)\n",
            "Requirement already satisfied: threadpoolctl>=3.1.0 in /usr/local/lib/python3.11/dist-packages (from scikit-learn) (3.6.0)\n",
            "Requirement already satisfied: contourpy>=1.0.1 in /usr/local/lib/python3.11/dist-packages (from matplotlib) (1.3.2)\n",
            "Requirement already satisfied: cycler>=0.10 in /usr/local/lib/python3.11/dist-packages (from matplotlib) (0.12.1)\n",
            "Requirement already satisfied: fonttools>=4.22.0 in /usr/local/lib/python3.11/dist-packages (from matplotlib) (4.58.0)\n",
            "Requirement already satisfied: kiwisolver>=1.3.1 in /usr/local/lib/python3.11/dist-packages (from matplotlib) (1.4.8)\n",
            "Requirement already satisfied: packaging>=20.0 in /usr/local/lib/python3.11/dist-packages (from matplotlib) (24.2)\n",
            "Requirement already satisfied: pillow>=8 in /usr/local/lib/python3.11/dist-packages (from matplotlib) (11.2.1)\n",
            "Requirement already satisfied: pyparsing>=2.3.1 in /usr/local/lib/python3.11/dist-packages (from matplotlib) (3.2.3)\n",
            "Requirement already satisfied: six>=1.5 in /usr/local/lib/python3.11/dist-packages (from python-dateutil>=2.8.2->pandas) (1.17.0)\n",
            "--2025-05-20 19:25:22--  https://raw.githubusercontent.com/datasciencedojo/datasets/master/titanic.csv\n",
            "Resolving raw.githubusercontent.com (raw.githubusercontent.com)... 185.199.110.133, 185.199.111.133, 185.199.108.133, ...\n",
            "Connecting to raw.githubusercontent.com (raw.githubusercontent.com)|185.199.110.133|:443... connected.\n",
            "HTTP request sent, awaiting response... 200 OK\n",
            "Length: 60302 (59K) [text/plain]\n",
            "Saving to: ‘titanic.csv’\n",
            "\n",
            "titanic.csv         100%[===================>]  58.89K  --.-KB/s    in 0.01s   \n",
            "\n",
            "2025-05-20 19:25:22 (3.97 MB/s) - ‘titanic.csv’ saved [60302/60302]\n",
            "\n",
            "Original DataFrame head:\n",
            "   PassengerId  Survived  Pclass  \\\n",
            "0            1         0       3   \n",
            "1            2         1       1   \n",
            "2            3         1       3   \n",
            "3            4         1       1   \n",
            "4            5         0       3   \n",
            "\n",
            "                                                Name     Sex   Age  SibSp  \\\n",
            "0                            Braund, Mr. Owen Harris    male  22.0      1   \n",
            "1  Cumings, Mrs. John Bradley (Florence Briggs Th...  female  38.0      1   \n",
            "2                             Heikkinen, Miss. Laina  female  26.0      0   \n",
            "3       Futrelle, Mrs. Jacques Heath (Lily May Peel)  female  35.0      1   \n",
            "4                           Allen, Mr. William Henry    male  35.0      0   \n",
            "\n",
            "   Parch            Ticket     Fare Cabin Embarked  \n",
            "0      0         A/5 21171   7.2500   NaN        S  \n",
            "1      0          PC 17599  71.2833   C85        C  \n",
            "2      0  STON/O2. 3101282   7.9250   NaN        S  \n",
            "3      0            113803  53.1000  C123        S  \n",
            "4      0            373450   8.0500   NaN        S  \n",
            "\n",
            "DataFrame Info:\n",
            "<class 'pandas.core.frame.DataFrame'>\n",
            "RangeIndex: 891 entries, 0 to 890\n",
            "Data columns (total 12 columns):\n",
            " #   Column       Non-Null Count  Dtype  \n",
            "---  ------       --------------  -----  \n",
            " 0   PassengerId  891 non-null    int64  \n",
            " 1   Survived     891 non-null    int64  \n",
            " 2   Pclass       891 non-null    int64  \n",
            " 3   Name         891 non-null    object \n",
            " 4   Sex          891 non-null    object \n",
            " 5   Age          714 non-null    float64\n",
            " 6   SibSp        891 non-null    int64  \n",
            " 7   Parch        891 non-null    int64  \n",
            " 8   Ticket       891 non-null    object \n",
            " 9   Fare         891 non-null    float64\n",
            " 10  Cabin        204 non-null    object \n",
            " 11  Embarked     889 non-null    object \n",
            "dtypes: float64(2), int64(5), object(5)\n",
            "memory usage: 83.7+ KB\n",
            "\n",
            "Missing Values:\n",
            "PassengerId      0\n",
            "Survived         0\n",
            "Pclass           0\n",
            "Name             0\n",
            "Sex              0\n",
            "Age            177\n",
            "SibSp            0\n",
            "Parch            0\n",
            "Ticket           0\n",
            "Fare             0\n",
            "Cabin          687\n",
            "Embarked         2\n",
            "dtype: int64\n",
            "\n",
            "Processed DataFrame head (features):\n",
            "   Pclass  Sex   Age  SibSp  Parch     Fare  Embarked_Q  Embarked_S\n",
            "0       3    1  22.0      1      0   7.2500       False        True\n",
            "1       1    0  38.0      1      0  71.2833       False       False\n",
            "2       3    0  26.0      0      0   7.9250       False        True\n",
            "3       1    0  35.0      1      0  53.1000       False        True\n",
            "4       3    1  35.0      0      0   8.0500       False        True\n",
            "\n",
            "Processed DataFrame Info:\n",
            "<class 'pandas.core.frame.DataFrame'>\n",
            "RangeIndex: 891 entries, 0 to 890\n",
            "Data columns (total 8 columns):\n",
            " #   Column      Non-Null Count  Dtype  \n",
            "---  ------      --------------  -----  \n",
            " 0   Pclass      891 non-null    int64  \n",
            " 1   Sex         891 non-null    int64  \n",
            " 2   Age         891 non-null    float64\n",
            " 3   SibSp       891 non-null    int64  \n",
            " 4   Parch       891 non-null    int64  \n",
            " 5   Fare        891 non-null    float64\n",
            " 6   Embarked_Q  891 non-null    bool   \n",
            " 7   Embarked_S  891 non-null    bool   \n",
            "dtypes: bool(2), float64(2), int64(4)\n",
            "memory usage: 43.6 KB\n",
            "\n",
            "Missing Values after handling:\n",
            "Pclass        0\n",
            "Sex           0\n",
            "Age           0\n",
            "SibSp         0\n",
            "Parch         0\n",
            "Fare          0\n",
            "Embarked_Q    0\n",
            "Embarked_S    0\n",
            "dtype: int64\n",
            "\n",
            "Training set shape: (712, 8)\n",
            "Testing set shape: (179, 8)\n",
            "Training target distribution: [439 273]\n",
            "Testing target distribution: [110  69]\n",
            "\n",
            "--- Model Evaluation ---\n",
            "Accuracy: 0.8045\n",
            "Precision: 0.7931\n",
            "Recall: 0.6667\n",
            "F1-Score: 0.7244\n",
            "\n",
            "Confusion Matrix:\n",
            "[[98 12]\n",
            " [23 46]]\n"
          ]
        },
        {
          "output_type": "stream",
          "name": "stderr",
          "text": [
            "<ipython-input-14-9719b983079a>:21: FutureWarning: A value is trying to be set on a copy of a DataFrame or Series through chained assignment using an inplace method.\n",
            "The behavior will change in pandas 3.0. This inplace method will never work because the intermediate object on which we are setting values always behaves as a copy.\n",
            "\n",
            "For example, when doing 'df[col].method(value, inplace=True)', try using 'df.method({col: value}, inplace=True)' or df[col] = df[col].method(value) instead, to perform the operation inplace on the original object.\n",
            "\n",
            "\n",
            "  df['Age'].fillna(df['Age'].median(), inplace=True)\n",
            "<ipython-input-14-9719b983079a>:23: FutureWarning: A value is trying to be set on a copy of a DataFrame or Series through chained assignment using an inplace method.\n",
            "The behavior will change in pandas 3.0. This inplace method will never work because the intermediate object on which we are setting values always behaves as a copy.\n",
            "\n",
            "For example, when doing 'df[col].method(value, inplace=True)', try using 'df.method({col: value}, inplace=True)' or df[col] = df[col].method(value) instead, to perform the operation inplace on the original object.\n",
            "\n",
            "\n",
            "  df['Embarked'].fillna(df['Embarked'].mode()[0], inplace=True)\n"
          ]
        },
        {
          "output_type": "display_data",
          "data": {
            "text/plain": [
              "<Figure size 800x600 with 2 Axes>"
            ],
            "image/png": "[encoded data removed]"
          },
          "metadata": {}
        }
      ]
    },
    {
      "cell_type": "code",
      "source": [
        "#15. Write a Python program to apply feature scaling (Standardization) before training a Logistic Regression\n",
        "# model. Evaluate its accuracy and compare results with and without scaling\n",
        "\n",
        "from sklearn.preprocessing import StandardScaler\n",
        "\n",
        "iris_full = load_iris()\n",
        "X_full = iris_full.data\n",
        "y_full = iris_full.target\n",
        "\n",
        "X_train_full, X_test_full, y_train_full, y_test_full = train_test_split(X_full, y_full, test_size=0.2, random_state=42)\n",
        "\n",
        "model_no_scale = LogisticRegression(solver='lbfgs', max_iter=1000) # Use a solver suitable for unscaled data\n",
        "\n",
        "model_no_scale.fit(X_train_full, y_train_full)\n",
        "\n",
        "y_pred_no_scale = model_no_scale.predict(X_test_full)\n",
        "\n",
        "accuracy_no_scale = accuracy_score(y_test_full, y_pred_no_scale)\n",
        "print(\"--- Logistic Regression without Feature Scaling ---\")\n",
        "print(f\"Accuracy: {accuracy_no_scale:.4f}\")\n",
        "\n",
        "scaler = StandardScaler()\n",
        "\n",
        "X_train_scaled = scaler.fit_transform(X_train_full)\n",
        "X_test_scaled = scaler.transform(X_test_full)\n",
        "\n",
        "model_scaled = LogisticRegression(solver='lbfgs', max_iter=1000)\n",
        "\n",
        "model_scaled.fit(X_train_scaled, y_train_full)\n",
        "\n",
        "y_pred_scaled = model_scaled.predict(X_test_scaled)\n",
        "\n",
        "accuracy_scaled = accuracy_score(y_test_full, y_pred_scaled)\n",
        "print(\"\\n--- Logistic Regression with Standardization (Feature Scaling) ---\")\n",
        "print(f\"Accuracy: {accuracy_scaled:.4f}\")\n",
        "\n",
        "print(\"\\n--- Comparison ---\")\n",
        "print(f\"Accuracy without scaling: {accuracy_no_scale:.4f}\")\n",
        "print(f\"Accuracy with scaling:    {accuracy_scaled:.4f}\")\n",
        "\n"
      ],
      "metadata": {
        "colab": {
          "base_uri": "https://localhost:8080/"
        },
        "id": "ryDpKQqPKD3-",
        "outputId": "c0c18554-60bc-44fc-c3e0-d7a6e28007f7"
      },
      "execution_count": 15,
      "outputs": [
        {
          "output_type": "stream",
          "name": "stdout",
          "text": [
            "--- Logistic Regression without Feature Scaling ---\n",
            "Accuracy: 1.0000\n",
            "\n",
            "--- Logistic Regression with Standardization (Feature Scaling) ---\n",
            "Accuracy: 1.0000\n",
            "\n",
            "--- Comparison ---\n",
            "Accuracy without scaling: 1.0000\n",
            "Accuracy with scaling:    1.0000\n"
          ]
        }
      ]
    },
    {
      "cell_type": "code",
      "source": [
        "# 16. Write a Python program to train Logistic Regression and evaluate its performance using ROC-AUC score\n",
        "\n",
        "import matplotlib.pyplot as plt\n",
        "from sklearn.metrics import roc_auc_score, roc_curve\n",
        "\n",
        "iris = load_iris()\n",
        "X = iris.data\n",
        "y = iris.target\n",
        "\n",
        "X_binary = X[(y == 0) | (y == 1)]\n",
        "y_binary = y[(y == 0) | (y == 1)]\n",
        "\n",
        "X_train_binary, X_test_binary, y_train_binary, y_test_binary = train_test_split(\n",
        "    X_binary, y_binary, test_size=0.2, random_state=42, stratify=y_binary)\n",
        "\n",
        "model_binary = LogisticRegression(solver='liblinear', random_state=42)\n",
        "model_binary.fit(X_train_binary, y_train_binary)\n",
        "\n",
        "y_pred_proba_binary = model_binary.predict_proba(X_test_binary)[:, 1]\n",
        "y_true_binary = y_test_binary\n",
        "\n",
        "roc_auc = roc_auc_score(y_true_binary, y_pred_proba_binary)\n",
        "print(f\"ROC-AUC Score: {roc_auc:.4f}\")\n",
        "\n",
        "fpr, tpr, thresholds = roc_curve(y_true_binary, y_pred_proba_binary)\n",
        "\n",
        "plt.figure(figsize=(8, 6))\n",
        "plt.plot(fpr, tpr, color='darkorange', lw=2, label=f'ROC curve (area = {roc_auc:.2f})')\n",
        "plt.plot([0, 1], [0, 1], color='navy', lw=2, linestyle='--', label='Random')\n",
        "plt.xlim([0.0, 1.0])\n",
        "plt.ylim([0.0, 1.05])\n",
        "plt.xlabel('False Positive Rate')\n",
        "plt.ylabel('True Positive Rate')\n",
        "plt.title('Receiver Operating Characteristic (ROC) Curve')\n",
        "plt.legend(loc=\"lower right\")\n",
        "plt.show()"
      ],
      "metadata": {
        "colab": {
          "base_uri": "https://localhost:8080/",
          "height": 581
        },
        "id": "7g5JR687KV-U",
        "outputId": "00b10525-3353-45c3-b37a-f4719bf9c598"
      },
      "execution_count": 16,
      "outputs": [
        {
          "output_type": "stream",
          "name": "stdout",
          "text": [
            "ROC-AUC Score: 1.0000\n"
          ]
        },
        {
          "output_type": "display_data",
          "data": {
            "text/plain": [
              "<Figure size 800x600 with 1 Axes>"
            ],
            "image/png": "[encoded data removed]"
          },
          "metadata": {}
        }
      ]
    },
    {
      "cell_type": "code",
      "source": [
        "#17. Write a Python program to train Logistic Regression using a custom learning rate (C=0.5) and evaluate\n",
        "# accuracy\n",
        "\n",
        "model_custom_c = LogisticRegression(C=0.5, solver='liblinear', random_state=42)\n",
        "\n",
        "model_custom_c.fit(X_train, y_train)\n",
        "\n",
        "y_pred_custom_c = model_custom_c.predict(X_test)\n",
        "\n",
        "accuracy_custom_c = accuracy_score(y_test, y_pred_custom_c)\n",
        "\n",
        "print(f\"Model Accuracy with custom C=0.5: {accuracy_custom_c:.4f}\")\n",
        "print(f\"Model Coefficients with custom C=0.5: {model_custom_c.coef_}\")\n",
        "print(f\"Model Intercept with custom C=0.5: {model_custom_c.intercept_}\")"
      ],
      "metadata": {
        "colab": {
          "base_uri": "https://localhost:8080/"
        },
        "id": "5CTeDlmsKkqH",
        "outputId": "876a4bb0-5102-4299-b371-a908f504b1f3"
      },
      "execution_count": 17,
      "outputs": [
        {
          "output_type": "stream",
          "name": "stdout",
          "text": [
            "Model Accuracy with custom C=0.5: 0.7989\n",
            "Model Coefficients with custom C=0.5: [[-0.64641381 -2.24089989 -0.02112843 -0.2128509  -0.06658682  0.00764792\n",
            "   0.32216567 -0.15451428]]\n",
            "Model Intercept with custom C=0.5: [2.9011595]\n"
          ]
        }
      ]
    },
    {
      "cell_type": "code",
      "source": [
        "#18. Write a Python program to train Logistic Regression and identify important features based on model\n",
        "# coefficients\n",
        "\n",
        "import pandas as pd\n",
        "import matplotlib.pyplot as plt\n",
        "import numpy as np\n",
        "print(f\"\\nModel Coefficients with custom C=0.5: {model_custom_c.coef_}\")\n",
        "\n",
        "feature_names = iris.feature_names[:4]\n",
        "feature_names_binary = [iris.feature_names[i] for i in [0, 1]]\n",
        "\n",
        "if model_custom_c.coef_.shape[1] == len(feature_names_binary):\n",
        "    coefficients_df = pd.DataFrame({\n",
        "        'Feature': feature_names_binary,\n",
        "        'Coefficient': model_custom_c.coef_[0]\n",
        "    })\n",
        "\n",
        "    coefficients_df['Abs_Coefficient'] = np.abs(coefficients_df['Coefficient'])\n",
        "    coefficients_df_sorted = coefficients_df.sort_values(by='Abs_Coefficient', ascending=False)\n",
        "\n",
        "    print(\"\\nImportant Features based on Coefficient Magnitude:\")\n",
        "    print(coefficients_df_sorted[['Feature', 'Coefficient']])\n",
        "\n",
        "    plt.figure(figsize=(10, 6))\n",
        "    sns.barplot(x='Coefficient', y='Feature', data=coefficients_df_sorted, palette='viridis')\n",
        "    plt.title('Feature Importance based on Logistic Regression Coefficients')\n",
        "    plt.xlabel('Coefficient Value')\n",
        "    plt.ylabel('Feature')\n",
        "    plt.show()\n",
        "else:\n",
        "    print(\"\\nNumber of coefficients does not match the expected number of features.\")\n",
        "    print(f\"Number of coefficients: {model_custom_c.coef_.shape[1]}\")\n",
        "    print(f\"Expected number of features: {len(feature_names_binary)}\")\n",
        "    print(\"Cannot display feature importance table as expected.\")\n"
      ],
      "metadata": {
        "colab": {
          "base_uri": "https://localhost:8080/"
        },
        "id": "0lvq4jnULOdQ",
        "outputId": "ee148d5e-587c-4427-dbe1-1d69df9b399e"
      },
      "execution_count": 18,
      "outputs": [
        {
          "output_type": "stream",
          "name": "stdout",
          "text": [
            "\n",
            "Model Coefficients with custom C=0.5: [[-0.64641381 -2.24089989 -0.02112843 -0.2128509  -0.06658682  0.00764792\n",
            "   0.32216567 -0.15451428]]\n",
            "\n",
            "Number of coefficients does not match the expected number of features.\n",
            "Number of coefficients: 8\n",
            "Expected number of features: 2\n",
            "Cannot display feature importance table as expected.\n"
          ]
        }
      ]
    },
    {
      "cell_type": "code",
      "source": [
        "#19. Write a Python program to train Logistic Regression and evaluate its performance using Cohen’s Kappa\n",
        "# Score\n",
        "\n",
        "from sklearn.metrics import cohen_kappa_score\n",
        "\n",
        "model_binary = LogisticRegression(solver='liblinear', random_state=42)\n",
        "model_binary.fit(X_train_binary, y_train_binary)\n",
        "\n",
        "y_pred_binary = model_binary.predict(X_test_binary)\n",
        "\n",
        "kappa = cohen_kappa_score(y_test_binary, y_pred_binary)\n",
        "print(f\"Cohen's Kappa Score: {kappa:.4f}\")\n",
        "\n",
        "accuracy = accuracy_score(y_test_binary, y_pred_binary)\n",
        "precision = precision_score(y_test_binary, y_pred_binary)\n",
        "recall = recall_score(y_test_binary, y_pred_binary)\n",
        "f1 = f1_score(y_test_binary, y_pred_binary)\n",
        "print(f\"Accuracy: {accuracy:.4f}\")\n",
        "print(f\"Precision: {precision:.4f}\")\n",
        "print(f\"Recall: {recall:.4f}\")\n",
        "print(f\"F1-Score: {f1:.4f}\")"
      ],
      "metadata": {
        "colab": {
          "base_uri": "https://localhost:8080/"
        },
        "id": "vZDZZFCwLc46",
        "outputId": "b0fc22d3-b6d5-41d1-e40e-eed61bc49c65"
      },
      "execution_count": 19,
      "outputs": [
        {
          "output_type": "stream",
          "name": "stdout",
          "text": [
            "Cohen's Kappa Score: 1.0000\n",
            "Accuracy: 1.0000\n",
            "Precision: 1.0000\n",
            "Recall: 1.0000\n",
            "F1-Score: 1.0000\n"
          ]
        }
      ]
    },
    {
      "cell_type": "code",
      "source": [
        "# 20.Write a Python program to train Logistic Regression and visualize the Precision-Recall Curve for binary\n",
        "# classification\n",
        "\n",
        "import matplotlib.pyplot as plt\n",
        "from sklearn.metrics import precision_recall_curve, auc\n",
        "\n",
        "y_pred_proba_binary = model_binary.predict_proba(X_test_binary)[:, 1]\n",
        "y_true_binary = y_test_binary\n",
        "\n",
        "precision, recall, _ = precision_recall_curve(y_true_binary, y_pred_proba_binary)\n",
        "\n",
        "auprc = auc(recall, precision)\n",
        "\n",
        "print(f\"\\nArea Under the Precision-Recall Curve (AUPRC): {auprc:.4f}\")\n",
        "\n",
        "plt.figure(figsize=(8, 6))\n",
        "plt.plot(recall, precision, color='blue', lw=2, label=f'Precision-Recall curve (area = {auprc:.2f})')\n",
        "plt.xlabel('Recall')\n",
        "plt.ylabel('Precision')\n",
        "plt.title('Precision-Recall Curve for Binary Classification')\n",
        "plt.legend(loc=\"lower left\")\n",
        "plt.grid(True)\n",
        "plt.show()"
      ],
      "metadata": {
        "colab": {
          "base_uri": "https://localhost:8080/",
          "height": 599
        },
        "id": "LPXa78kQLpc5",
        "outputId": "24409cf5-297b-4461-f3cc-a0a95476b6ed"
      },
      "execution_count": 20,
      "outputs": [
        {
          "output_type": "stream",
          "name": "stdout",
          "text": [
            "\n",
            "Area Under the Precision-Recall Curve (AUPRC): 1.0000\n"
          ]
        },
        {
          "output_type": "display_data",
          "data": {
            "text/plain": [
              "<Figure size 800x600 with 1 Axes>"
            ],
            "image/png": "[encoded data removed]"
          },
          "metadata": {}
        }
      ]
    },
    {
      "cell_type": "code",
      "source": [
        "# 21. Write a Python program to train Logistic Regression with different solvers (liblinear, saga, lbfgs) and compare\n",
        "# their accuracy\n",
        "\n",
        "import matplotlib.pyplot as plt\n",
        "solvers = ['liblinear', 'saga', 'lbfgs']\n",
        "accuracy_results = {}\n",
        "\n",
        "for solver in solvers:\n",
        "    try:\n",
        "\n",
        "\n",
        "        if solver == 'saga':\n",
        "             model = LogisticRegression(solver=solver, max_iter=1000, random_state=42)\n",
        "        elif solver == 'liblinear':\n",
        "            model = LogisticRegression(solver=solver, random_state=42)\n",
        "        else:\n",
        "            model = LogisticRegression(solver=solver, max_iter=1000, random_state=42)\n",
        "\n",
        "        model.fit(X_train_binary, y_train_binary)\n",
        "        y_pred = model.predict(X_test_binary)\n",
        "        accuracy = accuracy_score(y_test_binary, y_pred)\n",
        "        accuracy_results[solver] = accuracy\n",
        "        print(f\"Accuracy with {solver} solver: {accuracy:.4f}\")\n",
        "    except Exception as e:\n",
        "        print(f\"Could not train with {solver} solver due to: {e}\")\n",
        "        accuracy_results[solver] = None\n",
        "\n",
        "\n",
        "print(\"\\n--- Accuracy Comparison of Solvers ---\")\n",
        "for solver, accuracy in accuracy_results.items():\n",
        "    if accuracy is not None:\n",
        "        print(f\"{solver}: {accuracy:.4f}\")\n",
        "    else:\n",
        "        print(f\"{solver}: Failed to train\")\n",
        "\n",
        "\n",
        "solvers_trained = [s for s, acc in accuracy_results.items() if acc is not None]\n",
        "accuracies_trained = [acc for s, acc in accuracy_results.items() if acc is not None]\n",
        "\n",
        "if solvers_trained:\n",
        "    plt.figure(figsize=(8, 5))\n",
        "    sns.barplot(x=solvers_trained, y=accuracies_trained, palette='viridis')\n",
        "    plt.ylim(0, 1)\n",
        "    plt.ylabel('Accuracy')\n",
        "    plt.title('Logistic Regression Accuracy by Solver')\n",
        "    plt.show()\n",
        "else:\n",
        "    print(\"No solvers were successfully trained to plot results.\")"
      ],
      "metadata": {
        "colab": {
          "base_uri": "https://localhost:8080/",
          "height": 728
        },
        "id": "sdK_NqKgL1hD",
        "outputId": "f83938ab-a521-4ab3-ddb3-fb38875b5e5f"
      },
      "execution_count": 21,
      "outputs": [
        {
          "output_type": "stream",
          "name": "stdout",
          "text": [
            "Accuracy with liblinear solver: 1.0000\n",
            "Accuracy with saga solver: 1.0000\n",
            "Accuracy with lbfgs solver: 1.0000\n",
            "\n",
            "--- Accuracy Comparison of Solvers ---\n",
            "liblinear: 1.0000\n",
            "saga: 1.0000\n",
            "lbfgs: 1.0000\n"
          ]
        },
        {
          "output_type": "stream",
          "name": "stderr",
          "text": [
            "/usr/local/lib/python3.11/dist-packages/sklearn/linear_model/_sag.py:348: ConvergenceWarning: The max_iter was reached which means the coef_ did not converge\n",
            "  warnings.warn(\n",
            "<ipython-input-21-c6f092d0b03c>:42: FutureWarning: \n",
            "\n",
            "Passing `palette` without assigning `hue` is deprecated and will be removed in v0.14.0. Assign the `x` variable to `hue` and set `legend=False` for the same effect.\n",
            "\n",
            "  sns.barplot(x=solvers_trained, y=accuracies_trained, palette='viridis')\n"
          ]
        },
        {
          "output_type": "display_data",
          "data": {
            "text/plain": [
              "<Figure size 800x500 with 1 Axes>"
            ],
            "image/png": "[encoded data removed]"
          },
          "metadata": {}
        }
      ]
    },
    {
      "cell_type": "code",
      "source": [
        "#22. Write a Python program to train Logistic Regression and evaluate its performance using Matthews\n",
        "# Correlation Coefficient (MCC)\n",
        "\n",
        "from sklearn.metrics import matthews_corrcoef\n",
        "\n",
        "y_pred = model.predict(X_test_binary)\n",
        "\n",
        "mcc = matthews_corrcoef(y_test_binary, y_pred)\n",
        "\n",
        "print(f\"Matthews Correlation Coefficient (MCC): {mcc:.4f}\")\n",
        "\n",
        "from sklearn.metrics import accuracy_score, precision_score, recall_score, f1_score\n",
        "\n",
        "accuracy = accuracy_score(y_test_binary, y_pred)\n",
        "precision = precision_score(y_test_binary, y_pred)\n",
        "recall = recall_score(y_test_binary, y_pred)\n",
        "f1 = f1_score(y_test_binary, y_pred)\n",
        "\n",
        "print(f\"Accuracy: {accuracy:.4f}\")\n",
        "print(f\"Precision: {precision:.4f}\")\n",
        "print(f\"Recall: {recall:.4f}\")\n",
        "print(f\"F1-Score: {f1:.4f}\")"
      ],
      "metadata": {
        "colab": {
          "base_uri": "https://localhost:8080/"
        },
        "id": "TLozk43KMIP1",
        "outputId": "1ec3e3cf-75fc-4196-9812-712b86f271ee"
      },
      "execution_count": 24,
      "outputs": [
        {
          "output_type": "stream",
          "name": "stdout",
          "text": [
            "Matthews Correlation Coefficient (MCC): 1.0000\n",
            "Accuracy: 1.0000\n",
            "Precision: 1.0000\n",
            "Recall: 1.0000\n",
            "F1-Score: 1.0000\n"
          ]
        }
      ]
    },
    {
      "cell_type": "code",
      "source": [
        "#23.  Write a Python program to train Logistic Regression on both raw and standardized data. Compare their\n",
        "# accuracy to see the impact of feature scaling\n",
        "\n",
        "iris_full = load_iris()\n",
        "X_full = iris_full.data\n",
        "y_full = iris_full.target\n",
        "\n",
        "X_train_full, X_test_full, y_train_full, y_test_full = train_test_split(X_full, y_full, test_size=0.2, random_state=42)\n",
        "\n",
        "model_raw = LogisticRegression(solver='lbfgs', max_iter=1000, random_state=42) # Using a solver suitable for general use\n",
        "\n",
        "model_raw.fit(X_train_full, y_train_full)\n",
        "\n",
        "y_pred_raw = model_raw.predict(X_test_full)\n",
        "\n",
        "accuracy_raw = accuracy_score(y_test_full, y_pred_raw)\n",
        "print(\"--- Logistic Regression without Feature Scaling (Raw Data) ---\")\n",
        "print(f\"Accuracy: {accuracy_raw:.4f}\")\n",
        "\n",
        "scaler = StandardScaler()\n",
        "\n",
        "X_train_scaled = scaler.fit_transform(X_train_full)\n",
        "X_test_scaled = scaler.transform(X_test_full)\n",
        "\n",
        "model_scaled = LogisticRegression(solver='lbfgs', max_iter=1000, random_state=42)\n",
        "\n",
        "model_scaled.fit(X_train_scaled, y_train_full)\n",
        "\n",
        "y_pred_scaled = model_scaled.predict(X_test_scaled)\n",
        "\n",
        "accuracy_scaled = accuracy_score(y_test_full, y_pred_scaled)\n",
        "print(\"\\n--- Logistic Regression with Standardization (Feature Scaling) ---\")\n",
        "print(f\"Accuracy: {accuracy_scaled:.4f}\")\n",
        "\n",
        "print(\"\\n--- Comparison of Accuracies ---\")\n",
        "print(f\"Accuracy without scaling: {accuracy_raw:.4f}\")\n",
        "print(f\"Accuracy with scaling:    {accuracy_scaled:.4f}\")\n",
        "\n"
      ],
      "metadata": {
        "colab": {
          "base_uri": "https://localhost:8080/"
        },
        "id": "v1Z0tiHrMY74",
        "outputId": "3d3b046a-8fd2-47a2-99fd-afb9de0f3f00"
      },
      "execution_count": 25,
      "outputs": [
        {
          "output_type": "stream",
          "name": "stdout",
          "text": [
            "--- Logistic Regression without Feature Scaling (Raw Data) ---\n",
            "Accuracy: 1.0000\n",
            "\n",
            "--- Logistic Regression with Standardization (Feature Scaling) ---\n",
            "Accuracy: 1.0000\n",
            "\n",
            "--- Comparison of Accuracies ---\n",
            "Accuracy without scaling: 1.0000\n",
            "Accuracy with scaling:    1.0000\n"
          ]
        }
      ]
    },
    {
      "cell_type": "code",
      "source": [
        "# 24. Write a Python program to train Logistic Regression and find the optimal C (regularization strength) using\n",
        "# cross-validation\n",
        "\n",
        "from sklearn.metrics import matthews_corrcoef\n",
        "\n",
        "iris = load_iris()\n",
        "X = iris.data\n",
        "y = iris.target\n",
        "\n",
        "X_binary = X[(y == 0) | (y == 1)]\n",
        "y_binary = y[(y == 0) | (y == 1)]\n",
        "\n",
        "X_train_binary, X_test_binary, y_train_binary, y_test_binary = train_test_split(\n",
        "    X_binary, y_binary, test_size=0.2, random_state=42, stratify=y_binary)\n",
        "\n",
        "model = LogisticRegression(solver='liblinear', random_state=42)\n",
        "model.fit(X_train_binary, y_train_binary)\n",
        "\n",
        "y_pred = model.predict(X_test_binary)\n",
        "\n",
        "kappa = cohen_kappa_score(y_test_binary, y_pred)\n",
        "print(f\"Cohen's Kappa Score: {kappa:.4f}\")\n",
        "\n",
        "accuracy = accuracy_score(y_test_binary, y_pred)\n",
        "precision = precision_score(y_test_binary, y_pred)\n",
        "recall = recall_score(y_test_binary, y_pred)\n",
        "f1 = f1_score(y_test_binary, y_pred)\n",
        "\n",
        "print(f\"Accuracy: {accuracy:.4f}\")\n",
        "print(f\"Precision: {precision:.4f}\")\n",
        "print(f\"Recall: {recall:.4f}\")\n",
        "print(f\"F1-Score: {f1:.4f}\")"
      ],
      "metadata": {
        "colab": {
          "base_uri": "https://localhost:8080/"
        },
        "id": "2a_KXvezMp2C",
        "outputId": "2094c7e1-44ed-49e7-d208-b1292959c99d"
      },
      "execution_count": 26,
      "outputs": [
        {
          "output_type": "stream",
          "name": "stdout",
          "text": [
            "Cohen's Kappa Score: 1.0000\n",
            "Accuracy: 1.0000\n",
            "Precision: 1.0000\n",
            "Recall: 1.0000\n",
            "F1-Score: 1.0000\n"
          ]
        }
      ]
    },
    {
      "cell_type": "code",
      "source": [
        "# 25. Write a Python program to train Logistic Regression, save the trained model using joblib, and load it again to\n",
        "# make predictions\n",
        "\n",
        "import joblib\n",
        "\n",
        "\n",
        "model_to_save = LogisticRegression(solver='liblinear', random_state=42)\n",
        "model_to_save.fit(X_train_binary, y_train_binary)\n",
        "\n",
        "model_filename = 'logistic_regression_model.joblib'\n",
        "\n",
        "joblib.dump(model_to_save, model_filename)\n",
        "\n",
        "print(f\"Trained model saved to {model_filename}\")\n",
        "\n",
        "loaded_model = joblib.load(model_filename)\n",
        "\n",
        "print(f\"Model loaded from {model_filename}\")\n",
        "\n",
        "y_pred_loaded = loaded_model.predict(X_test_binary)\n",
        "\n",
        "accuracy_loaded = accuracy_score(y_test_binary, y_pred_loaded)\n",
        "print(f\"Accuracy of loaded model: {accuracy_loaded:.4f}\")"
      ],
      "metadata": {
        "colab": {
          "base_uri": "https://localhost:8080/"
        },
        "id": "1ePnlbveM6ZP",
        "outputId": "3f547b61-3ea3-4a72-c589-64df57a33dda"
      },
      "execution_count": 27,
      "outputs": [
        {
          "output_type": "stream",
          "name": "stdout",
          "text": [
            "Trained model saved to logistic_regression_model.joblib\n",
            "Model loaded from logistic_regression_model.joblib\n",
            "Accuracy of loaded model: 1.0000\n"
          ]
        }
      ]
    }
  ]
}